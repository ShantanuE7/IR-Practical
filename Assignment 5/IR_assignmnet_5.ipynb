{
  "nbformat": 4,
  "nbformat_minor": 0,
  "metadata": {
    "colab": {
      "provenance": []
    },
    "kernelspec": {
      "name": "python3",
      "display_name": "Python 3"
    },
    "language_info": {
      "name": "python"
    }
  },
  "cells": [
    {
      "cell_type": "code",
      "execution_count": 1,
      "metadata": {
        "colab": {
          "base_uri": "https://localhost:8080/"
        },
        "id": "XPZVf0GgY5Gl",
        "outputId": "460052a6-f900-41ea-b08c-ffd0126860e6"
      },
      "outputs": [
        {
          "output_type": "stream",
          "name": "stdout",
          "text": [
            "Page 0: 799052427776370.2500\n",
            "Page 1: 1345421756486872.0000\n",
            "Page 2: 1466330468144249.0000\n",
            "Page 3: 1669913118740961.0000\n"
          ]
        }
      ],
      "source": [
        "import numpy as np\n",
        "\n",
        "class PageRank:\n",
        "    def __init__(self, graph, damping_factor=0.85, max_iterations=100, tolerance=1.0e-6):\n",
        "        self.graph = graph\n",
        "        self.damping_factor = damping_factor\n",
        "        self.max_iterations = max_iterations\n",
        "        self.tolerance = tolerance\n",
        "        self.num_pages = len(graph)\n",
        "        self.rank = np.ones(self.num_pages) / self.num_pages\n",
        "\n",
        "    def calculate_page_rank(self):\n",
        "        for _ in range(self.max_iterations):\n",
        "            new_rank = np.zeros(self.num_pages)\n",
        "            for page in range(self.num_pages):\n",
        "                for linked_page in range(self.num_pages):\n",
        "                    if self.graph[linked_page][page] > 0:\n",
        "                        new_rank[page] += self.graph[linked_page][page] * self.rank[linked_page]\n",
        "            new_rank = (1 - self.damping_factor) / self.num_pages + self.damping_factor * new_rank\n",
        "\n",
        "            if np.linalg.norm(new_rank - self.rank, 1) < self.tolerance:\n",
        "                break\n",
        "\n",
        "            self.rank = new_rank\n",
        "\n",
        "        return self.rank\n",
        "\n",
        "graph = np.array([\n",
        "    [0, 1, 1, 0],\n",
        "    [1, 0, 0, 1],\n",
        "    [0, 1, 0, 1],\n",
        "    [0, 0, 1, 0]\n",
        "])\n",
        "\n",
        "pagerank = PageRank(graph)\n",
        "result = pagerank.calculate_page_rank()\n",
        "\n",
        "for i, rank in enumerate(result):\n",
        "    print(f\"Page {i}: {rank:.4f}\")\n"
      ]
    },
    {
      "cell_type": "code",
      "source": [],
      "metadata": {
        "id": "Y30oDF8KZFYY"
      },
      "execution_count": null,
      "outputs": []
    }
  ]
}
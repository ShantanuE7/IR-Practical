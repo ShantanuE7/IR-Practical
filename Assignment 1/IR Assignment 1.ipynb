{
 "cells": [
  {
   "cell_type": "code",
   "execution_count": 1,
   "metadata": {},
   "outputs": [],
   "source": [
    "import nltk\n",
    "from nltk.corpus import stopwords\n",
    "from nltk.tokenize import word_tokenize\n",
    "from nltk.stem import PorterStemmer\n"
   ]
  },
  {
   "cell_type": "code",
   "execution_count": 2,
   "metadata": {},
   "outputs": [
    {
     "name": "stderr",
     "output_type": "stream",
     "text": [
      "[nltk_data] Downloading package punkt to /home/dj-sha/nltk_data...\n",
      "[nltk_data]   Package punkt is already up-to-date!\n",
      "[nltk_data] Downloading package stopwords to /home/dj-sha/nltk_data...\n",
      "[nltk_data]   Package stopwords is already up-to-date!\n"
     ]
    },
    {
     "data": {
      "text/plain": [
       "True"
      ]
     },
     "execution_count": 2,
     "metadata": {},
     "output_type": "execute_result"
    }
   ],
   "source": [
    "nltk.download('punkt')\n",
    "nltk.download('stopwords')\n"
   ]
  },
  {
   "cell_type": "code",
   "execution_count": 3,
   "metadata": {},
   "outputs": [],
   "source": [
    "def preprocess_text(text):\n",
    "    # Tokenize the text into words\n",
    "    words = word_tokenize(text)\n",
    "\n",
    "    # Convert words to lowercase\n",
    "    words = [word.lower() for word in words]\n",
    "\n",
    "    # Remove punctuation\n",
    "    words = [word for word in words if word.isalpha()]\n",
    "\n",
    "    # Remove stop words\n",
    "    stop_words = set(stopwords.words('english'))\n",
    "    words = [word for word in words if word not in stop_words]\n",
    "\n",
    "    # Stemming\n",
    "    stemmer = PorterStemmer()\n",
    "    stemmed_words = [stemmer.stem(word) for word in words]\n",
    "\n",
    "    # Join the stemmed words back into a string\n",
    "    preprocessed_text = ' '.join(stemmed_words)\n",
    "\n",
    "    return preprocessed_text\n",
    "\n"
   ]
  },
  {
   "cell_type": "code",
   "execution_count": 20,
   "metadata": {},
   "outputs": [],
   "source": [
    "# Example usage\n",
    "\n",
    "text=open(\"1.txt\",\"rt\")\n",
    "text1=text.read()"
   ]
  },
  {
   "cell_type": "code",
   "execution_count": 23,
   "metadata": {},
   "outputs": [
    {
     "name": "stdout",
     "output_type": "stream",
     "text": [
      "Original text:\n",
      "In recent years, the rapid advancement of technology has revolutionized various aspects of our daily lives. \n",
      "From communication to healthcare, transportation to education, every sector has been significantly impacted \n",
      "by the digital transformation. The proliferation of smartphones and the internet has enabled instant communication \n",
      "across the globe, breaking down geographical barriers and creating a connected world. Social media platforms have \n",
      "emerged as powerful tools for information dissemination, influencing public opinion and even shaping political landscapes.\n",
      "\n",
      "However, this digital age also comes with its challenges. The rise of artificial intelligence and automation has \n",
      "sparked debates about the future of work, with concerns about job displacement and the need for re-skilling the workforce. \n",
      "Moreover, the issue of data privacy has gained prominence as more and more personal information is collected, stored, and \n",
      "analyzed by corporations and governments. Cybersecurity threats have also become a major concern, with hackers and \n",
      "cybercriminals constantly evolving their tactics to exploit vulnerabilities in systems and networks.\n",
      "\n",
      "Despite these challenges, the potential benefits of technology are undeniable. In the field of healthcare, for instance, \n",
      "advancements in medical technology have led to improved diagnostics, treatment options, and patient outcomes. Telemedicine \n",
      "has made healthcare more accessible, especially in remote areas where access to medical facilities is limited. In education, \n",
      "e-learning platforms have opened up new opportunities for lifelong learning, enabling individuals to acquire new skills and \n",
      "knowledge at their own pace.\n",
      "\n",
      "As we continue to navigate this digital era, it is crucial to strike a balance between embracing technological innovation \n",
      "and addressing the ethical, social, and economic implications that come with it. Policymakers, businesses, and individuals \n",
      "must work together to ensure that technology is harnessed for the greater good, while also safeguarding the rights and \n",
      "well-being of all members of society. The future of technology holds immense possibilities, but it is up to us to shape \n",
      "it in a way that benefits everyone.\n",
      "\n",
      "Preprocessed text:\n",
      "recent year rapid advanc technolog revolution variou aspect daili live commun healthcar transport educ everi sector significantli impact digit transform prolifer smartphon internet enabl instant commun across globe break geograph barrier creat connect world social media platform emerg power tool inform dissemin influenc public opinion even shape polit landscap howev digit age also come challeng rise artifici intellig autom spark debat futur work concern job displac need workforc moreov issu data privaci gain promin person inform collect store analyz corpor govern cybersecur threat also becom major concern hacker cybercrimin constantli evolv tactic exploit vulner system network despit challeng potenti benefit technolog undeni field healthcar instanc advanc medic technolog led improv diagnost treatment option patient outcom telemedicin made healthcar access especi remot area access medic facil limit educ platform open new opportun lifelong learn enabl individu acquir new skill knowledg pace continu navig digit era crucial strike balanc embrac technolog innov address ethic social econom implic come policymak busi individu must work togeth ensur technolog har greater good also safeguard right member societi futur technolog hold immens possibl us shape way benefit everyon\n"
     ]
    }
   ],
   "source": [
    "preprocessed_text = preprocess_text(text1)\n",
    "print(\"Original text:\")\n",
    "print(text1)\n",
    "print(\"\\nPreprocessed text:\")\n",
    "print(preprocessed_text)"
   ]
  },
  {
   "cell_type": "code",
   "execution_count": null,
   "metadata": {},
   "outputs": [],
   "source": []
  }
 ],
 "metadata": {
  "kernelspec": {
   "display_name": "Python 3",
   "language": "python",
   "name": "python3"
  },
  "language_info": {
   "codemirror_mode": {
    "name": "ipython",
    "version": 3
   },
   "file_extension": ".py",
   "mimetype": "text/x-python",
   "name": "python",
   "nbconvert_exporter": "python",
   "pygments_lexer": "ipython3",
   "version": "3.11.7"
  }
 },
 "nbformat": 4,
 "nbformat_minor": 2
}

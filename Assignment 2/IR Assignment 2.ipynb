{
 "cells": [
  {
   "cell_type": "code",
   "execution_count": 10,
   "metadata": {},
   "outputs": [
    {
     "name": "stderr",
     "output_type": "stream",
     "text": [
      "[nltk_data] Downloading package punkt to /home/dj-sha/nltk_data...\n",
      "[nltk_data]   Package punkt is already up-to-date!\n"
     ]
    },
    {
     "data": {
      "text/plain": [
       "True"
      ]
     },
     "execution_count": 10,
     "metadata": {},
     "output_type": "execute_result"
    }
   ],
   "source": [
    "from collections import defaultdict\n",
    "import nltk\n",
    "from nltk.tokenize import word_tokenize\n",
    "from nltk.stem import PorterStemmer\n",
    "\n",
    "nltk.download('punkt')"
   ]
  },
  {
   "cell_type": "code",
   "execution_count": 14,
   "metadata": {},
   "outputs": [],
   "source": [
    "class InvertedIndex:\n",
    "    def __init__(self):\n",
    "        self.index = defaultdict(list)\n",
    "        self.stemmer = PorterStemmer()\n",
    "    \n",
    "    def add_document(self, doc_id, text):\n",
    "        # Tokenize and normalize to lowercase\n",
    "        words = word_tokenize(text.lower())\n",
    "        # Apply stemming\n",
    "        stemmed_words = [self.stemmer.stem(word) for word in words if word.isalpha()]\n",
    "        unique_words = set(stemmed_words)  # Use unique words to avoid duplicate entries in index\n",
    "        for word in unique_words:\n",
    "            self.index[word].append(doc_id)\n",
    "    \n",
    "    def search(self, query):\n",
    "        query_words = word_tokenize(query.lower())\n",
    "        stemmed_query = [self.stemmer.stem(word) for word in query_words if word.isalpha()]\n",
    "        result_sets = []\n",
    "        \n",
    "        for word in stemmed_query:\n",
    "            if word in self.index:\n",
    "                result_sets.append(set(self.index[word]))\n",
    "            else:\n",
    "                result_sets.append(set())\n",
    "        \n",
    "        if not result_sets:\n",
    "            return set()\n",
    "        \n",
    "        # Return the intersection of results for all query words\n",
    "        return set.intersection(*result_sets)\n",
    "    \n",
    "    def print_index(self):\n",
    "        print(\"Inverted Index (Stemmed Words -> Document IDs):\")\n",
    "        for word, doc_ids in self.index.items():\n",
    "            print(f\"{word}: {doc_ids}\")\n"
   ]
  },
  {
   "cell_type": "code",
   "execution_count": 16,
   "metadata": {},
   "outputs": [
    {
     "name": "stdout",
     "output_type": "stream",
     "text": [
      "Documents matching 'fox dog': {1, 4, 5, 6, 7}\n",
      "Inverted Index (Stemmed Words -> Document IDs):\n",
      "dog: [1, 2, 4, 5, 6, 7]\n",
      "fox: [1, 3, 4, 5, 6, 7]\n",
      "jump: [1, 2]\n",
      "quick: [1, 3, 4, 5]\n",
      "over: [1, 2]\n",
      "lazi: [1, 2, 5]\n",
      "brown: [1, 3, 4]\n",
      "the: [1, 2, 3, 7]\n",
      "never: [2]\n",
      "quickli: [2, 7]\n",
      "is: [3]\n",
      "and: [3, 7]\n",
      "veri: [3]\n",
      "a: [4, 5, 7]\n",
      "fast: [4]\n",
      "outpac: [4]\n",
      "match: [5]\n",
      "not: [5]\n",
      "for: [5]\n",
      "are: [5, 6]\n",
      "quicker: [6]\n",
      "than: [6]\n",
      "gener: [6]\n",
      "win: [7]\n",
      "between: [7]\n",
      "in: [7]\n",
      "race: [7]\n"
     ]
    }
   ],
   "source": [
    "def main():\n",
    "    documents = {\n",
    "    1: \"The quick brown fox jumps over the lazy dog\",\n",
    "    2: \"Never jump over the lazy dog quickly\",\n",
    "    3: \"The quick brown fox is quick and very quick\",\n",
    "    4: \"A fast brown dog outpaces a quick fox\",\n",
    "    5: \"Lazy dogs are not a match for quick foxes\",\n",
    "    6: \"Foxes are generally quicker than dogs\",\n",
    "    7: \"In the race between a fox and a dog, the fox wins quickly\"\n",
    "}\n",
    "\n",
    "    \n",
    "    inverted_index = InvertedIndex()\n",
    "    \n",
    "    # Build the inverted index\n",
    "    for doc_id, text in documents.items():\n",
    "        inverted_index.add_document(doc_id, text)\n",
    "    \n",
    "    # Query the inverted index\n",
    "    query = \"fox dog\"\n",
    "    result = inverted_index.search(query)\n",
    "    \n",
    "    if result:\n",
    "        print(f\"Documents matching '{query}': {result}\")\n",
    "    else:\n",
    "        print(f\"No documents found for query: {query}\")  \n",
    "\n",
    "if __name__ == \"__main__\":\n",
    "    main()"
   ]
  },
  {
   "cell_type": "code",
   "execution_count": null,
   "metadata": {},
   "outputs": [],
   "source": []
  }
 ],
 "metadata": {
  "kernelspec": {
   "display_name": "base",
   "language": "python",
   "name": "python3"
  },
  "language_info": {
   "codemirror_mode": {
    "name": "ipython",
    "version": 3
   },
   "file_extension": ".py",
   "mimetype": "text/x-python",
   "name": "python",
   "nbconvert_exporter": "python",
   "pygments_lexer": "ipython3",
   "version": "3.11.7"
  }
 },
 "nbformat": 4,
 "nbformat_minor": 2
}
